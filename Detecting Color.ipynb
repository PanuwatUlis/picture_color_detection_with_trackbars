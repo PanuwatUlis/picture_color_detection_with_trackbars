{
 "cells": [
  {
   "cell_type": "code",
   "execution_count": 11,
   "metadata": {},
   "outputs": [],
   "source": [
    "import cv2\n",
    "import numpy as np"
   ]
  },
  {
   "cell_type": "markdown",
   "metadata": {},
   "source": [
    "We start to create video obj. and then convert color from RGB to HSV \n",
    "\n",
    "and then create lower & upper boundary of color that we need to detect\n",
    "\n",
    "Finally, write if statement to break the loop when we press 'q' on the keyboard"
   ]
  },
  {
   "cell_type": "code",
   "execution_count": 12,
   "metadata": {},
   "outputs": [],
   "source": [
    "cap = cv2.VideoCapture(0)\n",
    "\n",
    "while True:\n",
    "    success, frame = cap.read()\n",
    "    \n",
    "    #Change RGB to HSV\n",
    "    hsv_frame = cv2.cvtColor(frame, cv2.COLOR_BGR2HSV)\n",
    "    \n",
    "    # Create Upper & lower Boundary to Detect Red \n",
    "    low_red = np.array([161, 155, 84])\n",
    "    high_red = np.array([179, 255, 255])\n",
    "    red_mask = cv2.inRange(hsv_frame, low_red, high_red)\n",
    "    red = cv2.bitwise_and(frame, frame, mask=red_mask)\n",
    "    \n",
    "    # Create Upper & lower Boundary to Detect Blue \n",
    "    low_blue = np.array([94, 80, 2])\n",
    "    high_blue = np.array([126, 255, 255])\n",
    "    blue_mask = cv2.inRange(hsv_frame, low_blue, high_blue)\n",
    "    blue = cv2.bitwise_and(frame, frame, mask=blue_mask)\n",
    "\n",
    "    # Create Upper & lower Boundary to Detect Green \n",
    "    low_green = np.array([25, 52, 72])\n",
    "    high_green = np.array([102, 255, 255])\n",
    "    green_mask = cv2.inRange(hsv_frame, low_green, high_green)\n",
    "    green = cv2.bitwise_and(frame, frame, mask=green_mask)\n",
    "\n",
    "    # Every color except white\n",
    "    low = np.array([0, 42, 0])\n",
    "    high = np.array([179, 255, 255])\n",
    "    mask = cv2.inRange(hsv_frame, low, high)\n",
    "    result = cv2.bitwise_and(frame, frame, mask=mask)\n",
    "    \n",
    "    \n",
    "    #Show Image\n",
    "    cv2.imshow(\"Frame\", frame)\n",
    "    cv2.imshow(\"Red\", red)\n",
    "    #cv2.imshow(\"Blue\", blue)\n",
    "    #cv2.imshow(\"Green\", green)\n",
    "    #cv2.imshow(\"Result\", result)\n",
    "    \n",
    "    wait_time = 1\n",
    "    if cv2.waitKey(wait_time) & 0xFF == ord('q'):\n",
    "        cv2.destroyAllWindows()\n",
    "        break\n",
    " "
   ]
  }
 ],
 "metadata": {
  "kernelspec": {
   "display_name": "Python 3",
   "language": "python",
   "name": "python3"
  },
  "language_info": {
   "codemirror_mode": {
    "name": "ipython",
    "version": 3
   },
   "file_extension": ".py",
   "mimetype": "text/x-python",
   "name": "python",
   "nbconvert_exporter": "python",
   "pygments_lexer": "ipython3",
   "version": "3.7.3"
  }
 },
 "nbformat": 4,
 "nbformat_minor": 2
}
